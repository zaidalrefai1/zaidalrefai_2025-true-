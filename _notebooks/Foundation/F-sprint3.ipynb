{
 "cells": [
  {
   "cell_type": "markdown",
   "metadata": {},
   "source": [
    "---\n",
    "layout: post\n",
    "title: Sprint 3 reflection and MCQ reflection\n",
    "description: Sprint 3 2024\n",
    "type: issues \n",
    "comments: true\n",
    "---"
   ]
  },
  {
   "cell_type": "markdown",
   "metadata": {},
   "source": [
    "## Sprint 3 Reflection \n",
    "\n",
    "Our project journey has been really interesting, with every piece coming together seamlessly after lots of work and collaboration. We take great pride in our ideation process, particularly in designing the platform to feature live chat rooms and different pages for topics relating to Del Norte High School. This structure enhanced clarity and accessibility, encouraging consistent user engagement with the platform and with each other."
   ]
  }
 ],
 "metadata": {
  "language_info": {
   "name": "python"
  }
 },
 "nbformat": 4,
 "nbformat_minor": 2
}
