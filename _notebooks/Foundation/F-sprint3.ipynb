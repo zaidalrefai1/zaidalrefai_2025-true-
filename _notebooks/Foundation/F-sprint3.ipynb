{
 "cells": [
  {
   "cell_type": "raw",
   "metadata": {
    "vscode": {
     "languageId": "raw"
    }
   },
   "source": [
    "---\n",
    "layout: post\n",
    "title: Sprint 3 Reflection and MC Review \n",
    "description:  Sprint 3 personal reflection and MCQ corrections and analysis\n",
    "type: issues \n",
    "comments: true\n",
    "---"
   ]
  },
  {
   "cell_type": "markdown",
   "metadata": {},
   "source": [
    "## Sprint 3 Reflection\n",
    "\n",
    "Our project journey has been really interesting, with every piece coming together seamlessly after lots of work and collaboration. We take great pride in our ideation process, particularly in designing the platform to feature live chat rooms and different pages for topics relating to Del Norte High School. This structure enhanced clarity and accessibility, encouraging consistent user engagement with the platform and with each other.\n",
    "\n",
    "\n"
   ]
  },
  {
   "cell_type": "markdown",
   "metadata": {},
   "source": [
    "<img width=\"1512\" alt=\"image\" src=\"https://private-user-images.githubusercontent.com/179050906/388257807-f1960d76-2262-436b-b831-91b15a350fd5.png?jwt=eyJhbGciOiJIUzI1NiIsInR5cCI6IkpXVCJ9.eyJpc3MiOiJnaXRodWIuY29tIiwiYXVkIjoicmF3LmdpdGh1YnVzZXJjb250ZW50LmNvbSIsImtleSI6ImtleTUiLCJleHAiOjE3MzIxMzU3NzMsIm5iZiI6MTczMjEzNTQ3MywicGF0aCI6Ii8xNzkwNTA5MDYvMzg4MjU3ODA3LWYxOTYwZDc2LTIyNjItNDM2Yi1iODMxLTkxYjE1YTM1MGZkNS5wbmc_WC1BbXotQWxnb3JpdGhtPUFXUzQtSE1BQy1TSEEyNTYmWC1BbXotQ3JlZGVudGlhbD1BS0lBVkNPRFlMU0E1M1BRSzRaQSUyRjIwMjQxMTIwJTJGdXMtZWFzdC0xJTJGczMlMkZhd3M0X3JlcXVlc3QmWC1BbXotRGF0ZT0yMDI0MTEyMFQyMDQ0MzNaJlgtQW16LUV4cGlyZXM9MzAwJlgtQW16LVNpZ25hdHVyZT1mOGIxODNkYjU1Y2ZmN2M4MzhmYjJhNzJjMGY1ZjY3ODVhMDRiYmZiZTU1MWRmYTAyNmU5ZjZhYTI4MzZhNDFiJlgtQW16LVNpZ25lZEhlYWRlcnM9aG9zdCJ9.nZXoVaQLQbGak-7V9cR9WWktAbuMy1CbcEd5YyFtcGo\">"
   ]
  },
  {
   "cell_type": "markdown",
   "metadata": {},
   "source": [
    "## Classroom Guidelines\n",
    "**It will be a very bad day when you say... \"I have everything done\".**  This statement typically comes by students that  are lacking understading.\n",
    "\n",
    "This statement shows that the person making the statement knows very little about CompSci and the principles of iteration that are being promoted in this class.  In fact, that state does not agree with Agile Development Methodologies that we will be learning in this class.\n",
    "\n",
    "The Teacher likes behaviors that are easily viewed and interpreted as productive to CompSci learning.  \n",
    "\n",
    "- Code, Code, Code.  This is the process of making code and involves making plans, designs, reviewing references, asking questions and Code-Code-Coding. \n",
    "- No paper. We will be learning to do all work electronically. \n",
    "- Work Talk. A very high percentate 75%, 80% or more of your talk during class should be code, code, code talk.\n",
    "- Ears that can listen.  100% of time you should be available for discussion.  Covered or plugged in ears restricts hearing.\n",
    "- Hands that can code. The primary coding device is assumed to be your laptop!  Sprint 1 will be focused on laptop importance.\n",
    "\n",
    "[Read Learning Habits Table](https://github.com/nighthawkcoders/portfolio_2025/issues/14) to understand how behaviors will impact grading.\n"
   ]
  },
  {
   "cell_type": "markdown",
   "metadata": {},
   "source": []
  }
 ],
 "metadata": {
  "language_info": {
   "name": "python"
  }
 },
 "nbformat": 4,
 "nbformat_minor": 2
}
